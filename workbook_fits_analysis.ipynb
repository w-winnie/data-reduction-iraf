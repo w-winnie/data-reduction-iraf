{
 "cells": [
  {
   "cell_type": "markdown",
   "metadata": {},
   "source": [
    "Sky backgound"
   ]
  },
  {
   "cell_type": "code",
   "execution_count": null,
   "metadata": {},
   "outputs": [],
   "source": [
    "# Assuming you have the region of interest defined as sky_region\n",
    "sky_data = science_data[sky_region]\n",
    "\n",
    "sky_mean = np.mean(sky_data)\n",
    "sky_std = np.std(sky_data)\n"
   ]
  },
  {
   "cell_type": "markdown",
   "metadata": {},
   "source": [
    "Star centroid"
   ]
  },
  {
   "cell_type": "code",
   "execution_count": null,
   "metadata": {},
   "outputs": [],
   "source": [
    "from astropy.stats import centroid_com\n",
    "\n",
    "# Assuming you have a star located in star_region\n",
    "x, y = centroid_com(star_region)\n"
   ]
  },
  {
   "cell_type": "markdown",
   "metadata": {},
   "source": [
    "Pixel scale"
   ]
  },
  {
   "cell_type": "markdown",
   "metadata": {},
   "source": [
    "# Assuming you have telescope focal length and plate scale information\n",
    "focal_length = 1000  # Example focal length in mm\n",
    "plate_scale = 0.5  # Example plate scale in arcseconds per pixel\n",
    "\n",
    "pixel_scale = plate_scale * (focal_length / 206265)  # Convert focal length to arcseconds\n"
   ]
  },
  {
   "cell_type": "markdown",
   "metadata": {},
   "source": [
    "Position Angle"
   ]
  },
  {
   "cell_type": "markdown",
   "metadata": {},
   "source": [
    "# Assuming you have access to the relevant FITS header information\n",
    "position_angle = hdul[0].header['POSANGLE']\n"
   ]
  }
 ],
 "metadata": {
  "language_info": {
   "name": "python"
  }
 },
 "nbformat": 4,
 "nbformat_minor": 2
}
