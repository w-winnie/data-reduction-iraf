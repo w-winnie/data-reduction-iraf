{
 "cells": [
  {
   "cell_type": "markdown",
   "metadata": {},
   "source": [
    "# Task #1: find the Master Bias!\n",
    "\n",
    "What is the bias? The bias is a pedestal level added to the signal during the detector readout. \n",
    "\n",
    "Why do we need to subtract it? The bias contribution to the signal is present in all frames observed and simply sums to the true signal that we aim to measure.\n",
    "\n",
    "How? The bias must be subtracted from all other frames observed, including the science frames. The goal of this workbook is to estimate the bias contribution combining the bias frames, i.e. observations taken with a zero exposure time. As a result we will obtain a new frame called \"Master Bias\" that we will subtract from the other frames."
   ]
  },
  {
   "cell_type": "code",
   "execution_count": 5,
   "metadata": {},
   "outputs": [],
   "source": [
    "# Importing all needed packages\n",
    "# Standard packages for data visualization\n",
    "import numpy as np\n",
    "import scipy as sp \n",
    "import matplotlib.pyplot as plt   \n",
    "%matplotlib notebook\n",
    "\n",
    "# Packages for reading astronomical data stored in fits files and accessing file paths\n",
    "from astropy.io import fits  # to read fits files with python\n",
    "import glob  # to find path names \n",
    "\n",
    "# Packages for importing ad-hoc modules and other\n",
    "import importlib\n",
    "import sys\n",
    "#importlib.reload(sys.modules['data_reduction']) #uncomment when you edit the module data_reduction.py\n",
    "from data_reduction import *\n",
    "import datetime"
   ]
  },
  {
   "cell_type": "markdown",
   "metadata": {},
   "source": [
    "For start, let's save into a list the paths of all the fits files that appear in our data directory and let's display them below."
   ]
  },
  {
   "cell_type": "code",
   "execution_count": 7,
   "metadata": {
    "scrolled": false
   },
   "outputs": [
    {
     "data": {
      "text/plain": [
       "['C:\\\\Users\\\\jeeth\\\\OneDrive\\\\Documents\\\\winnie\\\\data_iraf_a1\\\\calibrationFiles\\\\bias01.fits',\n",
       " 'C:\\\\Users\\\\jeeth\\\\OneDrive\\\\Documents\\\\winnie\\\\data_iraf_a1\\\\calibrationFiles\\\\bias02.fits',\n",
       " 'C:\\\\Users\\\\jeeth\\\\OneDrive\\\\Documents\\\\winnie\\\\data_iraf_a1\\\\calibrationFiles\\\\bias03.fits',\n",
       " 'C:\\\\Users\\\\jeeth\\\\OneDrive\\\\Documents\\\\winnie\\\\data_iraf_a1\\\\calibrationFiles\\\\bias04.fits',\n",
       " 'C:\\\\Users\\\\jeeth\\\\OneDrive\\\\Documents\\\\winnie\\\\data_iraf_a1\\\\calibrationFiles\\\\bias05.fits',\n",
       " 'C:\\\\Users\\\\jeeth\\\\OneDrive\\\\Documents\\\\winnie\\\\data_iraf_a1\\\\calibrationFiles\\\\bias06.fits',\n",
       " 'C:\\\\Users\\\\jeeth\\\\OneDrive\\\\Documents\\\\winnie\\\\data_iraf_a1\\\\calibrationFiles\\\\bias07.fits',\n",
       " 'C:\\\\Users\\\\jeeth\\\\OneDrive\\\\Documents\\\\winnie\\\\data_iraf_a1\\\\calibrationFiles\\\\bias08.fits',\n",
       " 'C:\\\\Users\\\\jeeth\\\\OneDrive\\\\Documents\\\\winnie\\\\data_iraf_a1\\\\calibrationFiles\\\\flat_g01.fits',\n",
       " 'C:\\\\Users\\\\jeeth\\\\OneDrive\\\\Documents\\\\winnie\\\\data_iraf_a1\\\\calibrationFiles\\\\flat_g02.fits',\n",
       " 'C:\\\\Users\\\\jeeth\\\\OneDrive\\\\Documents\\\\winnie\\\\data_iraf_a1\\\\calibrationFiles\\\\flat_g03.fits',\n",
       " 'C:\\\\Users\\\\jeeth\\\\OneDrive\\\\Documents\\\\winnie\\\\data_iraf_a1\\\\calibrationFiles\\\\flat_g04.fits',\n",
       " 'C:\\\\Users\\\\jeeth\\\\OneDrive\\\\Documents\\\\winnie\\\\data_iraf_a1\\\\calibrationFiles\\\\flat_g05.fits',\n",
       " 'C:\\\\Users\\\\jeeth\\\\OneDrive\\\\Documents\\\\winnie\\\\data_iraf_a1\\\\calibrationFiles\\\\flat_g06.fits',\n",
       " 'C:\\\\Users\\\\jeeth\\\\OneDrive\\\\Documents\\\\winnie\\\\data_iraf_a1\\\\calibrationFiles\\\\flat_g07.fits',\n",
       " 'C:\\\\Users\\\\jeeth\\\\OneDrive\\\\Documents\\\\winnie\\\\data_iraf_a1\\\\calibrationFiles\\\\flat_g08.fits',\n",
       " 'C:\\\\Users\\\\jeeth\\\\OneDrive\\\\Documents\\\\winnie\\\\data_iraf_a1\\\\calibrationFiles\\\\flat_i01.fits',\n",
       " 'C:\\\\Users\\\\jeeth\\\\OneDrive\\\\Documents\\\\winnie\\\\data_iraf_a1\\\\calibrationFiles\\\\flat_i02.fits',\n",
       " 'C:\\\\Users\\\\jeeth\\\\OneDrive\\\\Documents\\\\winnie\\\\data_iraf_a1\\\\calibrationFiles\\\\flat_i03.fits',\n",
       " 'C:\\\\Users\\\\jeeth\\\\OneDrive\\\\Documents\\\\winnie\\\\data_iraf_a1\\\\calibrationFiles\\\\flat_r02.fits',\n",
       " 'C:\\\\Users\\\\jeeth\\\\OneDrive\\\\Documents\\\\winnie\\\\data_iraf_a1\\\\calibrationFiles\\\\flat_r03.fits',\n",
       " 'C:\\\\Users\\\\jeeth\\\\OneDrive\\\\Documents\\\\winnie\\\\data_iraf_a1\\\\calibrationFiles\\\\flat_r04.fits',\n",
       " 'C:\\\\Users\\\\jeeth\\\\OneDrive\\\\Documents\\\\winnie\\\\data_iraf_a1\\\\calibrationFiles\\\\flat_r05.fits',\n",
       " 'C:\\\\Users\\\\jeeth\\\\OneDrive\\\\Documents\\\\winnie\\\\data_iraf_a1\\\\calibrationFiles\\\\flat_r06.fits',\n",
       " 'C:\\\\Users\\\\jeeth\\\\OneDrive\\\\Documents\\\\winnie\\\\data_iraf_a1\\\\calibrationFiles\\\\flat_r07.fits',\n",
       " 'C:\\\\Users\\\\jeeth\\\\OneDrive\\\\Documents\\\\winnie\\\\data_iraf_a1\\\\calibrationFiles\\\\flat_r08.fits',\n",
       " 'C:\\\\Users\\\\jeeth\\\\OneDrive\\\\Documents\\\\winnie\\\\data_iraf_a1\\\\calibrationFiles\\\\Wolf_g.fits',\n",
       " 'C:\\\\Users\\\\jeeth\\\\OneDrive\\\\Documents\\\\winnie\\\\data_iraf_a1\\\\calibrationFiles\\\\Wolf_i.fits',\n",
       " 'C:\\\\Users\\\\jeeth\\\\OneDrive\\\\Documents\\\\winnie\\\\data_iraf_a1\\\\calibrationFiles\\\\Wolf_r.fits']"
      ]
     },
     "execution_count": 7,
     "metadata": {},
     "output_type": "execute_result"
    }
   ],
   "source": [
    "# Directory of the data \n",
    "path2data = 'C:\\\\Users\\\\jeeth\\\\OneDrive\\\\Documents\\\\winnie\\\\data_iraf_a1\\\\calibrationFiles'\n",
    "# List of filenames \n",
    "fnames = glob.glob(path2data+'/*.fits', recursive=True) # the asterisk stands for any combination of letters  \n",
    "fnames"
   ]
  },
  {
   "cell_type": "markdown",
   "metadata": {},
   "source": [
    "# Bias checks: exposure time, frame dimension and pixels statistics\n",
    "\n",
    "Astronomical data are saved in the so-called .fits format. This stands for Flexible Image Transport System (FITS) and has been the standard in astronomy since 1981. FITS-files generally contain two parts: an image, consisting in a frame where each pixel has a value assigne; and a header that contains all metadata such as the image type, who made the observation and when, the exposure time, the frame dimension, etc.\n",
    "\n",
    "In the cell below we access each bias file, read some basic information within the header and compute some pixel statistics. For each bias frame we print:\n",
    "\n",
    "-> path name\n",
    "\n",
    "-> exposure time\n",
    "\n",
    "-> fame dimension in pixel\n",
    " \n",
    "-> total number of pixels\n",
    "\n",
    "-> mean, median, standard deviation value of pixels values"
   ]
  },
  {
   "cell_type": "code",
   "execution_count": 18,
   "metadata": {},
   "outputs": [
    {
     "name": "stdout",
     "output_type": "stream",
     "text": [
      "Filename: C:\\Users\\jeeth\\OneDrive\\Documents\\winnie\\data_iraf_a1\\calibrationFiles\\bias08.fits\n",
      "No.    Name      Ver    Type      Cards   Dimensions   Format\n",
      "  0  PRIMARY       1 PrimaryHDU      71   (1020, 2350)   int16 (rescales to uint16)   \n"
     ]
    }
   ],
   "source": [
    "hdul = fits.open('C:\\\\Users\\\\jeeth\\\\OneDrive\\\\Documents\\\\winnie\\\\data_iraf_a1\\\\calibrationFiles\\\\bias08.fits')\n",
    "hdul.info()"
   ]
  },
  {
   "cell_type": "code",
   "execution_count": 22,
   "metadata": {
    "code_folding": []
   },
   "outputs": [
    {
     "name": "stdout",
     "output_type": "stream",
     "text": [
      "C:\\Users\\jeeth\\OneDrive\\Documents\\winnie\\data_iraf_a1\\calibrationFiles\\bias01.fits  exp = 0  frame = 2350 x 1020 nPixels = 2397000\n",
      "Image statistics: mean = 1768.5525009366804  median = 1768.5525009366804  std = 81.4547038416699\n",
      "\n",
      "C:\\Users\\jeeth\\OneDrive\\Documents\\winnie\\data_iraf_a1\\calibrationFiles\\bias02.fits  exp = 0  frame = 2350 x 1020 nPixels = 2397000\n",
      "Image statistics: mean = 1767.9790839265643  median = 1767.9790839265643  std = 81.87091239643985\n",
      "\n",
      "C:\\Users\\jeeth\\OneDrive\\Documents\\winnie\\data_iraf_a1\\calibrationFiles\\bias03.fits  exp = 0  frame = 2350 x 1020 nPixels = 2397000\n",
      "Image statistics: mean = 1768.3196094042712  median = 1768.3196094042712  std = 82.16388677214877\n",
      "\n",
      "C:\\Users\\jeeth\\OneDrive\\Documents\\winnie\\data_iraf_a1\\calibrationFiles\\bias04.fits  exp = 0  frame = 2350 x 1020 nPixels = 2397000\n",
      "Image statistics: mean = 1768.3068986511803  median = 1768.3068986511803  std = 83.73767416567422\n",
      "\n",
      "C:\\Users\\jeeth\\OneDrive\\Documents\\winnie\\data_iraf_a1\\calibrationFiles\\bias05.fits  exp = 0  frame = 2350 x 1020 nPixels = 2397000\n",
      "Image statistics: mean = 1768.4313366429374  median = 1768.4313366429374  std = 84.62804754831707\n",
      "\n",
      "C:\\Users\\jeeth\\OneDrive\\Documents\\winnie\\data_iraf_a1\\calibrationFiles\\bias06.fits  exp = 0  frame = 2350 x 1020 nPixels = 2397000\n",
      "Image statistics: mean = 1768.974185088048  median = 1768.974185088048  std = 85.65029066866639\n",
      "\n",
      "C:\\Users\\jeeth\\OneDrive\\Documents\\winnie\\data_iraf_a1\\calibrationFiles\\bias07.fits  exp = 0  frame = 2350 x 1020 nPixels = 2397000\n",
      "Image statistics: mean = 1769.2999812663918  median = 1769.2999812663918  std = 86.09617402339005\n",
      "\n",
      "C:\\Users\\jeeth\\OneDrive\\Documents\\winnie\\data_iraf_a1\\calibrationFiles\\bias08.fits  exp = 0  frame = 2350 x 1020 nPixels = 2397000\n",
      "Image statistics: mean = 1768.719980954165  median = 1768.719980954165  std = 86.66936135459996\n",
      "\n"
     ]
    }
   ],
   "source": [
    "# Doing the necessary checks on the bias frames and printing them out\n",
    "\n",
    "BIAS_EXP_MAX = 0.1  # exposure time of the bias frame is expected to be zero or very short\n",
    "\n",
    "# List of filenames of the bias frames\n",
    "bias_names = []\n",
    "bias_frames = []\n",
    "\n",
    "for file in fnames:\n",
    "    hdul = fits.open(file)  # reading the fits file (headers and pixel values)\n",
    "    \n",
    "    # An HDU (Header Data Unit) is the highest level component of the FITS file structure, \n",
    "    # consisting of a header and (typically) a data array or table.\n",
    "    # if hdul[0].header['IMAGETYPE'] == 'BIAS':\n",
    "    if hdul[0].header['OBSTYPE'] == 'bias' or hdul[0].header['OBJECT'] == 'bias':\n",
    "        bias_names.append(file)  # add to the list of bias names\n",
    "        exp_t = hdul[0].header['EXPTIME']\n",
    "\n",
    "        data_array = hdul[0].data\n",
    "        xdim, ydim = data_array.shape\n",
    "        bias_frames.append(data_array)  #add to the list of bias frames \n",
    "        \n",
    "        # Computing statistics of the pixel values within a window exluding 10% on each side of both axis\n",
    "        stats = ImageStats(\"bias_frame_statistics\") # define the object where saving the statistics, name is optional\n",
    "        stats.compute_imstats(hdul[0].data, int(0.1*xdim), int(0.9*xdim), int(0.1*ydim), int(0.9*ydim))\n",
    "        bias_mean = stats.mean\n",
    "        bias_median = stats.median\n",
    "        bias_std = stats.std        \n",
    "        n_pixels = xdim * ydim\n",
    "        \n",
    "        print(file, \" exp =\", exp_t, \" frame =\", xdim, \"x\", ydim, \"nPixels =\", n_pixels)\n",
    "        print(\"Image statistics: mean =\", bias_mean, \" median =\", bias_median, \" std =\", bias_std)\n",
    "        \n",
    "        if exp_t > BIAS_EXP_MAX: print(\"WARNING: the exposure time of the frame above is longer than 0.1s. \"\n",
    "                              \"Frame might have been specified as BIAS by mistake.\")\n",
    "            \n",
    "        print(\"\")\n",
    "    hdul.close()\n",
    "\n",
    "bias_array = np.array(bias_frames)"
   ]
  },
  {
   "cell_type": "markdown",
   "metadata": {},
   "source": [
    "How does a bias frame look like?"
   ]
  },
  {
   "cell_type": "code",
   "execution_count": 33,
   "metadata": {},
   "outputs": [
    {
     "data": {
      "text/plain": [
       "<matplotlib.image.AxesImage at 0x1cd9d280b80>"
      ]
     },
     "execution_count": 33,
     "metadata": {},
     "output_type": "execute_result"
    },
    {
     "data": {
      "image/png": "[encoded data removed]",
      "text/plain": [
       "<Figure size 640x480 with 1 Axes>"
      ]
     },
     "metadata": {},
     "output_type": "display_data"
    }
   ],
   "source": [
    "# Plotting one bias frame as an example\n",
    "%matplotlib inline\n",
    "\n",
    "b = bias_array[0]\n",
    "plt.figure()\n",
    "plt.imshow(b, origin='lower', vmin=np.median(b)-2*np.std(b), vmax =np.median(b)+2*np.std(b))"
   ]
  },
  {
   "cell_type": "markdown",
   "metadata": {},
   "source": [
    "# Combining the bias frames into the Master Bias   \n",
    "\n",
    "How to combine the bias frames into a single Master Bias? \n",
    "\n",
    "We will use two methods:\n",
    "\n",
    "1) compute for each pixel the mean value along the stack of bias frames\n",
    "\n",
    "2) compute for each pixel the median value along the stack of bias frames\n",
    "\n",
    "We will then create a fits file for the Master Bias obtained with the \"mean\" method"
   ]
  },
  {
   "cell_type": "code",
   "execution_count": 30,
   "metadata": {},
   "outputs": [
    {
     "name": "stderr",
     "output_type": "stream",
     "text": [
      "c:\\Users\\jeeth\\OneDrive\\Documents\\winnie\\data-reduction-Obs-II-course\\data_reduction.py:236: RuntimeWarning: Mean of empty slice\n",
      "  return np.nanmean(clipped_frames_array, axis=0)\n",
      "c:\\Users\\jeeth\\anaconda3\\envs\\myenv\\lib\\site-packages\\numpy\\lib\\nanfunctions.py:1217: RuntimeWarning: All-NaN slice encountered\n",
      "  return function_base._ureduce(a, func=_nanmedian, keepdims=keepdims,\n"
     ]
    },
    {
     "data": {
      "image/png": "[encoded data removed]",
      "text/plain": [
       "<Figure size 640x480 with 1 Axes>"
      ]
     },
     "metadata": {},
     "output_type": "display_data"
    },
    {
     "data": {
      "image/png": "[encoded data removed]",
      "text/plain": [
       "<Figure size 640x480 with 1 Axes>"
      ]
     },
     "metadata": {},
     "output_type": "display_data"
    }
   ],
   "source": [
    "# Computing the master bias using a function defined in data_reduction.py module\n",
    "# Two methods of combination are available: (1) mean or (2) median\n",
    "master_bias1 = get_master(bias_array, method=\"mean\", n_clip=2)\n",
    "master_bias2 = get_master(bias_array, method=\"median\", n_clip=2)\n",
    "\n",
    "b = master_bias1\n",
    "plt.figure()\n",
    "plt.imshow(b, origin='lower', vmin=np.median(b)-2*np.std(b), vmax =np.median(b)+2*np.std(b))\n",
    "\n",
    "c = master_bias2\n",
    "plt.figure()\n",
    "plt.imshow(c, origin='lower', vmin=np.median(c)-2*np.std(c), vmax =np.median(c)+2*np.std(c))\n",
    "\n",
    "# Creating a fits file for the master bias obtained with the \"mean\" method\n",
    "hdu = fits.ImageHDU(master_bias1)\n",
    "\n",
    "hdr = fits.Header()\n",
    "now = datetime.datetime.now()\n",
    "now_string = now.strftime(\"%Y-%m-%d %H:%M:%S\")\n",
    "hdr['COMMENT'] = \"Master Bias frame (mean of bias frames) obtained on \" + now_string\n",
    "hdr['IMAGETYP'] = 'MASTER BIAS'\n",
    "empty_primary = fits.PrimaryHDU(header=hdr)\n",
    "\n",
    "hdul = fits.HDUList([empty_primary, hdu])\n",
    "master_name = path2data + '/master_bias_mean.fits'\n",
    "hdul.writeto(master_name, overwrite=True)"
   ]
  },
  {
   "cell_type": "markdown",
   "metadata": {},
   "source": [
    "# Subtracting the Master Bias from all the other frames \n",
    "\n",
    "The Master Bias rapresents the best estimate of the bias contribution to the signal that we want to subtract (pixel-by-pixel) from all other frames that are not bias frames.\n",
    "\n",
    "Below we do that, leaving a comment in the header of each newly created fits file. The original files are kept unchanged. The new files are named with the suffix \"_b\". \n",
    "\n",
    "We print below the name of the new bias-subtracted files and their image type."
   ]
  },
  {
   "cell_type": "code",
   "execution_count": 39,
   "metadata": {},
   "outputs": [
    {
     "name": "stdout",
     "output_type": "stream",
     "text": [
      "Master Bias subtracted from frame C:\\Users\\jeeth\\OneDrive\\Documents\\winnie\\data_iraf_a1\\calibrationFiles\\flat_g01.fits of image type:\n",
      " flat\n",
      "New fits file created for the bias-subtracted frame: C:\\Users\\jeeth\\OneDrive\\Documents\\winnie\\data_iraf_a1\\calibrationFiles\\flat_g01_b.fits \n",
      "\n",
      "Master Bias subtracted from frame C:\\Users\\jeeth\\OneDrive\\Documents\\winnie\\data_iraf_a1\\calibrationFiles\\flat_g02.fits of image type:\n",
      " flat\n",
      "New fits file created for the bias-subtracted frame: C:\\Users\\jeeth\\OneDrive\\Documents\\winnie\\data_iraf_a1\\calibrationFiles\\flat_g02_b.fits \n",
      "\n",
      "Master Bias subtracted from frame C:\\Users\\jeeth\\OneDrive\\Documents\\winnie\\data_iraf_a1\\calibrationFiles\\flat_g03.fits of image type:\n",
      " flat\n",
      "New fits file created for the bias-subtracted frame: C:\\Users\\jeeth\\OneDrive\\Documents\\winnie\\data_iraf_a1\\calibrationFiles\\flat_g03_b.fits \n",
      "\n",
      "Master Bias subtracted from frame C:\\Users\\jeeth\\OneDrive\\Documents\\winnie\\data_iraf_a1\\calibrationFiles\\flat_g04.fits of image type:\n",
      " flat\n",
      "New fits file created for the bias-subtracted frame: C:\\Users\\jeeth\\OneDrive\\Documents\\winnie\\data_iraf_a1\\calibrationFiles\\flat_g04_b.fits \n",
      "\n",
      "Master Bias subtracted from frame C:\\Users\\jeeth\\OneDrive\\Documents\\winnie\\data_iraf_a1\\calibrationFiles\\flat_g05.fits of image type:\n",
      " flat\n",
      "New fits file created for the bias-subtracted frame: C:\\Users\\jeeth\\OneDrive\\Documents\\winnie\\data_iraf_a1\\calibrationFiles\\flat_g05_b.fits \n",
      "\n",
      "Master Bias subtracted from frame C:\\Users\\jeeth\\OneDrive\\Documents\\winnie\\data_iraf_a1\\calibrationFiles\\flat_g06.fits of image type:\n",
      " flat\n",
      "New fits file created for the bias-subtracted frame: C:\\Users\\jeeth\\OneDrive\\Documents\\winnie\\data_iraf_a1\\calibrationFiles\\flat_g06_b.fits \n",
      "\n",
      "Master Bias subtracted from frame C:\\Users\\jeeth\\OneDrive\\Documents\\winnie\\data_iraf_a1\\calibrationFiles\\flat_g07.fits of image type:\n",
      " flat\n",
      "New fits file created for the bias-subtracted frame: C:\\Users\\jeeth\\OneDrive\\Documents\\winnie\\data_iraf_a1\\calibrationFiles\\flat_g07_b.fits \n",
      "\n",
      "Master Bias subtracted from frame C:\\Users\\jeeth\\OneDrive\\Documents\\winnie\\data_iraf_a1\\calibrationFiles\\flat_g08.fits of image type:\n",
      " flat\n",
      "New fits file created for the bias-subtracted frame: C:\\Users\\jeeth\\OneDrive\\Documents\\winnie\\data_iraf_a1\\calibrationFiles\\flat_g08_b.fits \n",
      "\n",
      "Master Bias subtracted from frame C:\\Users\\jeeth\\OneDrive\\Documents\\winnie\\data_iraf_a1\\calibrationFiles\\flat_i01.fits of image type:\n",
      " flat\n",
      "New fits file created for the bias-subtracted frame: C:\\Users\\jeeth\\OneDrive\\Documents\\winnie\\data_iraf_a1\\calibrationFiles\\flat_i01_b.fits \n",
      "\n",
      "Master Bias subtracted from frame C:\\Users\\jeeth\\OneDrive\\Documents\\winnie\\data_iraf_a1\\calibrationFiles\\flat_i02.fits of image type:\n",
      " flat\n",
      "New fits file created for the bias-subtracted frame: C:\\Users\\jeeth\\OneDrive\\Documents\\winnie\\data_iraf_a1\\calibrationFiles\\flat_i02_b.fits \n",
      "\n",
      "Master Bias subtracted from frame C:\\Users\\jeeth\\OneDrive\\Documents\\winnie\\data_iraf_a1\\calibrationFiles\\flat_i03.fits of image type:\n",
      " flat\n",
      "New fits file created for the bias-subtracted frame: C:\\Users\\jeeth\\OneDrive\\Documents\\winnie\\data_iraf_a1\\calibrationFiles\\flat_i03_b.fits \n",
      "\n",
      "Master Bias subtracted from frame C:\\Users\\jeeth\\OneDrive\\Documents\\winnie\\data_iraf_a1\\calibrationFiles\\flat_r02.fits of image type:\n",
      " flat\n",
      "New fits file created for the bias-subtracted frame: C:\\Users\\jeeth\\OneDrive\\Documents\\winnie\\data_iraf_a1\\calibrationFiles\\flat_r02_b.fits \n",
      "\n",
      "Master Bias subtracted from frame C:\\Users\\jeeth\\OneDrive\\Documents\\winnie\\data_iraf_a1\\calibrationFiles\\flat_r03.fits of image type:\n",
      " flat\n",
      "New fits file created for the bias-subtracted frame: C:\\Users\\jeeth\\OneDrive\\Documents\\winnie\\data_iraf_a1\\calibrationFiles\\flat_r03_b.fits \n",
      "\n",
      "Master Bias subtracted from frame C:\\Users\\jeeth\\OneDrive\\Documents\\winnie\\data_iraf_a1\\calibrationFiles\\flat_r04.fits of image type:\n",
      " flat\n",
      "New fits file created for the bias-subtracted frame: C:\\Users\\jeeth\\OneDrive\\Documents\\winnie\\data_iraf_a1\\calibrationFiles\\flat_r04_b.fits \n",
      "\n",
      "Master Bias subtracted from frame C:\\Users\\jeeth\\OneDrive\\Documents\\winnie\\data_iraf_a1\\calibrationFiles\\flat_r05.fits of image type:\n",
      " flat\n",
      "New fits file created for the bias-subtracted frame: C:\\Users\\jeeth\\OneDrive\\Documents\\winnie\\data_iraf_a1\\calibrationFiles\\flat_r05_b.fits \n",
      "\n",
      "Master Bias subtracted from frame C:\\Users\\jeeth\\OneDrive\\Documents\\winnie\\data_iraf_a1\\calibrationFiles\\flat_r06.fits of image type:\n",
      " flat\n",
      "New fits file created for the bias-subtracted frame: C:\\Users\\jeeth\\OneDrive\\Documents\\winnie\\data_iraf_a1\\calibrationFiles\\flat_r06_b.fits \n",
      "\n",
      "Master Bias subtracted from frame C:\\Users\\jeeth\\OneDrive\\Documents\\winnie\\data_iraf_a1\\calibrationFiles\\flat_r07.fits of image type:\n",
      " flat\n",
      "New fits file created for the bias-subtracted frame: C:\\Users\\jeeth\\OneDrive\\Documents\\winnie\\data_iraf_a1\\calibrationFiles\\flat_r07_b.fits \n",
      "\n",
      "Master Bias subtracted from frame C:\\Users\\jeeth\\OneDrive\\Documents\\winnie\\data_iraf_a1\\calibrationFiles\\flat_r08.fits of image type:\n",
      " flat\n",
      "New fits file created for the bias-subtracted frame: C:\\Users\\jeeth\\OneDrive\\Documents\\winnie\\data_iraf_a1\\calibrationFiles\\flat_r08_b.fits \n",
      "\n"
     ]
    }
   ],
   "source": [
    "# Subtracting the master bias (mean) from all other frames that are not bias frames\n",
    "\n",
    "hdul_master = fits.open(path2data+'/master_bias_mean.fits')\n",
    "\n",
    "for file in fnames:\n",
    "    hdul = fits.open(file)\n",
    "    \n",
    "    if 'BIAS_SUB' in hdul[0].header:  # if bias has been subtracted already we skip to the next frame\n",
    "        continue \n",
    "    \n",
    "    # imtyp = hdul[0].header['IMAGETYP']\n",
    "    # if imtyp == 'FLAT,LAMP' or imtyp == 'WAVE,LAMP' or imtyp == 'OBJECT':\n",
    "    if hdul[0].header['OBSTYPE'] == 'flat' or hdul[0].header['OBJECT'] == 'flat':\n",
    "        # data_array = hdul[0].data\n",
    "        hdul[0].data = hdul[0].data - master_bias1\n",
    "        print(\"Master Bias subtracted from frame\", file, \"of image type:\\n\", hdul[0].header['OBSTYPE'])\n",
    "        \n",
    "        comment = \"Master Bias subtracted on \"\n",
    "        now = datetime.datetime.now()\n",
    "        comment += now.strftime(\"%Y-%m-%d %H:%M:%S\")\n",
    "        comment += \" using master bias file \" + master_name\n",
    "        hdul[0].header['HISTORY'] = comment\n",
    "        hdul[0].header['COMMENT'] = comment\n",
    "        hdul[0].header['BIAS_SUB'] = 'Yes'\n",
    "        \n",
    "        new_file_name = file.replace(\".fits\", \"_b.fits\")\n",
    "        hdul.writeto(new_file_name, overwrite=True)\n",
    "        print(\"New fits file created for the bias-subtracted frame:\", new_file_name, \"\\n\")\n",
    "    \n",
    "    hdul.close()\n",
    "    \n",
    "hdul_master.close()"
   ]
  },
  {
   "cell_type": "code",
   "execution_count": null,
   "metadata": {},
   "outputs": [],
   "source": []
  }
 ],
 "metadata": {
  "kernelspec": {
   "display_name": "Python 3",
   "language": "python",
   "name": "python3"
  },
  "language_info": {
   "codemirror_mode": {
    "name": "ipython",
    "version": 3
   },
   "file_extension": ".py",
   "mimetype": "text/x-python",
   "name": "python",
   "nbconvert_exporter": "python",
   "pygments_lexer": "ipython3",
   "version": "3.8.18"
  }
 },
 "nbformat": 4,
 "nbformat_minor": 4
}
